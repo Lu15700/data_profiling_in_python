{
 "cells": [
  {
   "cell_type": "code",
   "execution_count": 4,
   "metadata": {},
   "outputs": [],
   "source": [
    "# Python Version: 3.11.7\n",
    "\n",
    "# Imports\n",
    "import pandas as pd\n",
    "from ydata_profiling import ProfileReport\n",
    "\n",
    "# File Reading\n",
    "file_path = str(input(\"Enter file path\"))\n",
    "\n",
    "file_path_composition = file_path.split(\"/\")\n",
    "file_name_for_report = file_path_composition[-1]\n",
    "file_name_for_export = file_name_for_report.rsplit(\".\", 1)[0]\n",
    "\n",
    "dataframe = pd.read_csv(file_path)\n",
    "\n",
    "# Report Generation\n",
    "profile = ProfileReport(dataframe, title = f\"Data Profiling Report: {file_name_for_report}\")\n",
    "\n",
    "# Report Exportation\n",
    "export_path = str(input('Enter export path; include file name and \".html\"'))\n",
    "\n",
    "profile.to_file(export_path)\n",
    "\n",
    "# --- MARKDOWN ---\n",
    "# # Potential Errors and Improvements\n",
    "\n",
    "# ## 001: Data Type Reading Errors\n",
    "# - Evaluate, transform, and validate data types from the beginning\n",
    "\n",
    "# ## 002: Customize and Iterpolate Export Path\n",
    "# -"
   ]
  }
 ],
 "metadata": {
  "kernelspec": {
   "display_name": "Python 3",
   "language": "python",
   "name": "python3"
  },
  "language_info": {
   "codemirror_mode": {
    "name": "ipython",
    "version": 3
   },
   "file_extension": ".py",
   "mimetype": "text/x-python",
   "name": "python",
   "nbconvert_exporter": "python",
   "pygments_lexer": "ipython3",
   "version": "3.11.7"
  }
 },
 "nbformat": 4,
 "nbformat_minor": 2
}
