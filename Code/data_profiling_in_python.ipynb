{
 "cells": [
  {
   "cell_type": "code",
   "execution_count": null,
   "metadata": {},
   "outputs": [],
   "source": [
    "# Python Version: 3.11.7\n",
    "\n",
    "import pandas as pd\n",
    "from ydata_profiling import ProfileReport\n",
    "\n",
    "# File Reading\n",
    "input_path = str(input(\"Enter input path with filename and extension\"))\n",
    "\n",
    "dataframe = pd.read_csv(input_path)\n",
    "\n",
    "# Report Generation\n",
    "input_path_composition = input_path.split(\"\\\\\") # 002: THIS LINE MAY ONLY WORK ON WINDOWS\n",
    "file_name_for_report = input_path_composition[-1] # 002: THIS LINE MAY ONLY WORK ON WINDOWS\n",
    "\n",
    "profile = ProfileReport(dataframe, title = f\"Data Profiling Report: {file_name_for_report}\")\n",
    "\n",
    "# Report Exportation\n",
    "output_path = str(input(\"Enter output path\"))\n",
    "file_name_for_export = file_name_for_report.rsplit(\".\", 1)[0] # 002: THIS LINE MAY ONLY WORK ON WINDOWS\n",
    "final_output_path = fr\"{output_path}\\{file_name_for_export}_data_profile.html\" # 002: THIS LINE MAY ONLY WORK ON WINDOWS\n",
    "\n",
    "profile.to_file(final_output_path)\n",
    "\n",
    "# --- MARKDOWN ---\n",
    "# # Potential Errors and Improvements\n",
    "\n",
    "# ## 001: Data Type Reading Errors\n",
    "# - Evaluate, transform, and validate data types from the beginning\n",
    "\n",
    "# ## 002: Cross-Compatibility of Input Path Composition Reading"
   ]
  }
 ],
 "metadata": {
  "kernelspec": {
   "display_name": "Python 3",
   "language": "python",
   "name": "python3"
  },
  "language_info": {
   "codemirror_mode": {
    "name": "ipython",
    "version": 3
   },
   "file_extension": ".py",
   "mimetype": "text/x-python",
   "name": "python",
   "nbconvert_exporter": "python",
   "pygments_lexer": "ipython3",
   "version": "3.11.7"
  }
 },
 "nbformat": 4,
 "nbformat_minor": 2
}
